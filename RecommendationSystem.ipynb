{
 "cells": [
  {
   "cell_type": "markdown",
   "id": "e5d5baf6-f040-4490-b25e-c6926b6c0251",
   "metadata": {},
   "source": [
    "Data Preprocessing:"
   ]
  },
  {
   "cell_type": "markdown",
   "id": "bb03b4e1-327d-4edb-8b1d-f252ba3cda56",
   "metadata": {},
   "source": [
    "Loading the Dataset:"
   ]
  },
  {
   "cell_type": "code",
   "execution_count": 3,
   "id": "934fadc1-2fe8-4508-92c7-f0a3d51c1186",
   "metadata": {},
   "outputs": [],
   "source": [
    "import pandas as pd"
   ]
  },
  {
   "cell_type": "code",
   "execution_count": 4,
   "id": "fa19fcd7-7f0c-413f-95dd-f0997da2be2d",
   "metadata": {},
   "outputs": [],
   "source": [
    "df=pd.read_csv(\"C:\\\\DataScience25\\\\official_assignments\\\\Recommendation System\\\\Recommendation System\\\\anime.csv\")"
   ]
  },
  {
   "cell_type": "code",
   "execution_count": 5,
   "id": "64355ee7-8976-4f1d-8fec-4d124633be23",
   "metadata": {},
   "outputs": [
    {
     "data": {
      "text/html": [
       "<div>\n",
       "<style scoped>\n",
       "    .dataframe tbody tr th:only-of-type {\n",
       "        vertical-align: middle;\n",
       "    }\n",
       "\n",
       "    .dataframe tbody tr th {\n",
       "        vertical-align: top;\n",
       "    }\n",
       "\n",
       "    .dataframe thead th {\n",
       "        text-align: right;\n",
       "    }\n",
       "</style>\n",
       "<table border=\"1\" class=\"dataframe\">\n",
       "  <thead>\n",
       "    <tr style=\"text-align: right;\">\n",
       "      <th></th>\n",
       "      <th>anime_id</th>\n",
       "      <th>name</th>\n",
       "      <th>genre</th>\n",
       "      <th>type</th>\n",
       "      <th>episodes</th>\n",
       "      <th>rating</th>\n",
       "      <th>members</th>\n",
       "    </tr>\n",
       "  </thead>\n",
       "  <tbody>\n",
       "    <tr>\n",
       "      <th>0</th>\n",
       "      <td>32281</td>\n",
       "      <td>Kimi no Na wa.</td>\n",
       "      <td>Drama, Romance, School, Supernatural</td>\n",
       "      <td>Movie</td>\n",
       "      <td>1</td>\n",
       "      <td>9.37</td>\n",
       "      <td>200630</td>\n",
       "    </tr>\n",
       "    <tr>\n",
       "      <th>1</th>\n",
       "      <td>5114</td>\n",
       "      <td>Fullmetal Alchemist: Brotherhood</td>\n",
       "      <td>Action, Adventure, Drama, Fantasy, Magic, Mili...</td>\n",
       "      <td>TV</td>\n",
       "      <td>64</td>\n",
       "      <td>9.26</td>\n",
       "      <td>793665</td>\n",
       "    </tr>\n",
       "    <tr>\n",
       "      <th>2</th>\n",
       "      <td>28977</td>\n",
       "      <td>Gintama°</td>\n",
       "      <td>Action, Comedy, Historical, Parody, Samurai, S...</td>\n",
       "      <td>TV</td>\n",
       "      <td>51</td>\n",
       "      <td>9.25</td>\n",
       "      <td>114262</td>\n",
       "    </tr>\n",
       "    <tr>\n",
       "      <th>3</th>\n",
       "      <td>9253</td>\n",
       "      <td>Steins;Gate</td>\n",
       "      <td>Sci-Fi, Thriller</td>\n",
       "      <td>TV</td>\n",
       "      <td>24</td>\n",
       "      <td>9.17</td>\n",
       "      <td>673572</td>\n",
       "    </tr>\n",
       "    <tr>\n",
       "      <th>4</th>\n",
       "      <td>9969</td>\n",
       "      <td>Gintama&amp;#039;</td>\n",
       "      <td>Action, Comedy, Historical, Parody, Samurai, S...</td>\n",
       "      <td>TV</td>\n",
       "      <td>51</td>\n",
       "      <td>9.16</td>\n",
       "      <td>151266</td>\n",
       "    </tr>\n",
       "    <tr>\n",
       "      <th>...</th>\n",
       "      <td>...</td>\n",
       "      <td>...</td>\n",
       "      <td>...</td>\n",
       "      <td>...</td>\n",
       "      <td>...</td>\n",
       "      <td>...</td>\n",
       "      <td>...</td>\n",
       "    </tr>\n",
       "    <tr>\n",
       "      <th>12289</th>\n",
       "      <td>9316</td>\n",
       "      <td>Toushindai My Lover: Minami tai Mecha-Minami</td>\n",
       "      <td>Hentai</td>\n",
       "      <td>OVA</td>\n",
       "      <td>1</td>\n",
       "      <td>4.15</td>\n",
       "      <td>211</td>\n",
       "    </tr>\n",
       "    <tr>\n",
       "      <th>12290</th>\n",
       "      <td>5543</td>\n",
       "      <td>Under World</td>\n",
       "      <td>Hentai</td>\n",
       "      <td>OVA</td>\n",
       "      <td>1</td>\n",
       "      <td>4.28</td>\n",
       "      <td>183</td>\n",
       "    </tr>\n",
       "    <tr>\n",
       "      <th>12291</th>\n",
       "      <td>5621</td>\n",
       "      <td>Violence Gekiga David no Hoshi</td>\n",
       "      <td>Hentai</td>\n",
       "      <td>OVA</td>\n",
       "      <td>4</td>\n",
       "      <td>4.88</td>\n",
       "      <td>219</td>\n",
       "    </tr>\n",
       "    <tr>\n",
       "      <th>12292</th>\n",
       "      <td>6133</td>\n",
       "      <td>Violence Gekiga Shin David no Hoshi: Inma Dens...</td>\n",
       "      <td>Hentai</td>\n",
       "      <td>OVA</td>\n",
       "      <td>1</td>\n",
       "      <td>4.98</td>\n",
       "      <td>175</td>\n",
       "    </tr>\n",
       "    <tr>\n",
       "      <th>12293</th>\n",
       "      <td>26081</td>\n",
       "      <td>Yasuji no Pornorama: Yacchimae!!</td>\n",
       "      <td>Hentai</td>\n",
       "      <td>Movie</td>\n",
       "      <td>1</td>\n",
       "      <td>5.46</td>\n",
       "      <td>142</td>\n",
       "    </tr>\n",
       "  </tbody>\n",
       "</table>\n",
       "<p>12294 rows × 7 columns</p>\n",
       "</div>"
      ],
      "text/plain": [
       "       anime_id                                               name  \\\n",
       "0         32281                                     Kimi no Na wa.   \n",
       "1          5114                   Fullmetal Alchemist: Brotherhood   \n",
       "2         28977                                           Gintama°   \n",
       "3          9253                                        Steins;Gate   \n",
       "4          9969                                      Gintama&#039;   \n",
       "...         ...                                                ...   \n",
       "12289      9316       Toushindai My Lover: Minami tai Mecha-Minami   \n",
       "12290      5543                                        Under World   \n",
       "12291      5621                     Violence Gekiga David no Hoshi   \n",
       "12292      6133  Violence Gekiga Shin David no Hoshi: Inma Dens...   \n",
       "12293     26081                   Yasuji no Pornorama: Yacchimae!!   \n",
       "\n",
       "                                                   genre   type episodes  \\\n",
       "0                   Drama, Romance, School, Supernatural  Movie        1   \n",
       "1      Action, Adventure, Drama, Fantasy, Magic, Mili...     TV       64   \n",
       "2      Action, Comedy, Historical, Parody, Samurai, S...     TV       51   \n",
       "3                                       Sci-Fi, Thriller     TV       24   \n",
       "4      Action, Comedy, Historical, Parody, Samurai, S...     TV       51   \n",
       "...                                                  ...    ...      ...   \n",
       "12289                                             Hentai    OVA        1   \n",
       "12290                                             Hentai    OVA        1   \n",
       "12291                                             Hentai    OVA        4   \n",
       "12292                                             Hentai    OVA        1   \n",
       "12293                                             Hentai  Movie        1   \n",
       "\n",
       "       rating  members  \n",
       "0        9.37   200630  \n",
       "1        9.26   793665  \n",
       "2        9.25   114262  \n",
       "3        9.17   673572  \n",
       "4        9.16   151266  \n",
       "...       ...      ...  \n",
       "12289    4.15      211  \n",
       "12290    4.28      183  \n",
       "12291    4.88      219  \n",
       "12292    4.98      175  \n",
       "12293    5.46      142  \n",
       "\n",
       "[12294 rows x 7 columns]"
      ]
     },
     "execution_count": 5,
     "metadata": {},
     "output_type": "execute_result"
    }
   ],
   "source": [
    "df"
   ]
  },
  {
   "cell_type": "code",
   "execution_count": 6,
   "id": "32c5a2d4-5c68-4146-b3c2-d2af1633d746",
   "metadata": {},
   "outputs": [
    {
     "data": {
      "text/plain": [
       "(12294, 7)"
      ]
     },
     "execution_count": 6,
     "metadata": {},
     "output_type": "execute_result"
    }
   ],
   "source": [
    "df.shape"
   ]
  },
  {
   "cell_type": "code",
   "execution_count": 7,
   "id": "27a13dc2-5e14-438d-931d-e5442299095a",
   "metadata": {},
   "outputs": [
    {
     "data": {
      "text/plain": [
       "Index(['anime_id', 'name', 'genre', 'type', 'episodes', 'rating', 'members'], dtype='object')"
      ]
     },
     "execution_count": 7,
     "metadata": {},
     "output_type": "execute_result"
    }
   ],
   "source": [
    "df.columns"
   ]
  },
  {
   "cell_type": "markdown",
   "id": "ddc5f88a-6d87-4b9e-877b-8fcad2366621",
   "metadata": {},
   "source": [
    "Checking for missing values:"
   ]
  },
  {
   "cell_type": "code",
   "execution_count": 9,
   "id": "26ebf3b1-f7ab-48fe-aac9-bf89997a733a",
   "metadata": {},
   "outputs": [
    {
     "data": {
      "text/plain": [
       "anime_id      0\n",
       "name          0\n",
       "genre        62\n",
       "type         25\n",
       "episodes      0\n",
       "rating      230\n",
       "members       0\n",
       "dtype: int64"
      ]
     },
     "execution_count": 9,
     "metadata": {},
     "output_type": "execute_result"
    }
   ],
   "source": [
    "df.isnull().sum()"
   ]
  },
  {
   "cell_type": "markdown",
   "id": "0cb79a93-6db7-4e85-8a20-32a56aba857f",
   "metadata": {},
   "source": [
    "Handling Missing Values:"
   ]
  },
  {
   "cell_type": "code",
   "execution_count": 11,
   "id": "34c71802-3d7d-437f-8a76-9b010745ab6c",
   "metadata": {},
   "outputs": [],
   "source": [
    "df['genre']=df['genre'].fillna(df['genre'].mode()[0])"
   ]
  },
  {
   "cell_type": "code",
   "execution_count": 12,
   "id": "04d7fa1b-e5af-4a35-bf53-2c00d5f81873",
   "metadata": {},
   "outputs": [],
   "source": [
    "df['type']=df['type'].fillna(df['type'].mode()[0])"
   ]
  },
  {
   "cell_type": "code",
   "execution_count": 13,
   "id": "b953c6d9-f52c-4f36-a7dd-49fb022a54e9",
   "metadata": {},
   "outputs": [],
   "source": [
    "df['rating']=df['rating'].fillna(df['rating'].median())"
   ]
  },
  {
   "cell_type": "code",
   "execution_count": 14,
   "id": "8a6dbfdd-b171-4e75-b778-05103aa3da84",
   "metadata": {},
   "outputs": [
    {
     "data": {
      "text/plain": [
       "anime_id    0\n",
       "name        0\n",
       "genre       0\n",
       "type        0\n",
       "episodes    0\n",
       "rating      0\n",
       "members     0\n",
       "dtype: int64"
      ]
     },
     "execution_count": 14,
     "metadata": {},
     "output_type": "execute_result"
    }
   ],
   "source": [
    "df.isnull().sum()"
   ]
  },
  {
   "cell_type": "markdown",
   "id": "0a0fabb6-8879-46e9-aff0-3197c0601432",
   "metadata": {},
   "source": [
    "Handled the missing values of df by impututing Genre and Type with mode as they are categorical features and for rating imputed using median as it is a numerical feature."
   ]
  },
  {
   "cell_type": "markdown",
   "id": "fd3aaa91-52aa-4fea-9469-00fa8dff3e10",
   "metadata": {},
   "source": [
    "Handling categorical features:"
   ]
  },
  {
   "cell_type": "code",
   "execution_count": 17,
   "id": "ffee6f4e-96dc-4f50-9541-be7168028c23",
   "metadata": {},
   "outputs": [
    {
     "data": {
      "text/plain": [
       "Index(['name', 'genre', 'type', 'episodes'], dtype='object')"
      ]
     },
     "execution_count": 17,
     "metadata": {},
     "output_type": "execute_result"
    }
   ],
   "source": [
    "df.select_dtypes(include='object').columns"
   ]
  },
  {
   "cell_type": "markdown",
   "id": "532a6f3e-5057-4f84-b592-bcb67a08d61f",
   "metadata": {},
   "source": [
    "For genre, we are using MultiLabelBinarizer as there are multiple comma separated labels in a single column"
   ]
  },
  {
   "cell_type": "code",
   "execution_count": 19,
   "id": "a49e6b8c-8b72-4208-8fec-ce68da3da5b6",
   "metadata": {},
   "outputs": [],
   "source": [
    "from sklearn.preprocessing import MultiLabelBinarizer\n",
    "mlb=MultiLabelBinarizer()\n",
    "genre_binarized=mlb.fit_transform(df['genre'].str.split(', '))\n",
    "genre_df = pd.DataFrame(genre_binarized, columns=mlb.classes_)"
   ]
  },
  {
   "cell_type": "code",
   "execution_count": 20,
   "id": "48ab13ea-e142-4f44-a446-8e213f3ead36",
   "metadata": {},
   "outputs": [],
   "source": [
    "df=df.drop('genre',axis=1)"
   ]
  },
  {
   "cell_type": "markdown",
   "id": "65ec0d1e-2541-41c2-842b-aa415e6deae0",
   "metadata": {},
   "source": [
    "Concating genre_df with the original df:"
   ]
  },
  {
   "cell_type": "code",
   "execution_count": 22,
   "id": "d26b7165-6a57-4110-a048-cac3e4987ae8",
   "metadata": {},
   "outputs": [],
   "source": [
    "df = pd.concat([df, genre_df], axis=1)"
   ]
  },
  {
   "cell_type": "code",
   "execution_count": 23,
   "id": "57687718-ec6d-4a4e-9527-d4f113c1fc8e",
   "metadata": {},
   "outputs": [],
   "source": [
    "df=pd.get_dummies(df,columns=['type'])"
   ]
  },
  {
   "cell_type": "markdown",
   "id": "008813d0-557c-4ba0-a6b4-deb9ec995aa1",
   "metadata": {},
   "source": [
    "Converting episode to numeric:"
   ]
  },
  {
   "cell_type": "code",
   "execution_count": 25,
   "id": "ce5e677e-f85c-4a99-924a-5321271106f9",
   "metadata": {},
   "outputs": [],
   "source": [
    "df['episodes'] = pd.to_numeric(df['episodes'], errors='coerce')"
   ]
  },
  {
   "cell_type": "markdown",
   "id": "979c9935-5fbc-4b89-bee2-e31698dd5409",
   "metadata": {},
   "source": [
    "Statistical Summary of the Numerical Columns:"
   ]
  },
  {
   "cell_type": "code",
   "execution_count": 27,
   "id": "c9a6c9f4-4720-47db-8473-1dd7afeb00b9",
   "metadata": {},
   "outputs": [
    {
     "data": {
      "text/html": [
       "<div>\n",
       "<style scoped>\n",
       "    .dataframe tbody tr th:only-of-type {\n",
       "        vertical-align: middle;\n",
       "    }\n",
       "\n",
       "    .dataframe tbody tr th {\n",
       "        vertical-align: top;\n",
       "    }\n",
       "\n",
       "    .dataframe thead th {\n",
       "        text-align: right;\n",
       "    }\n",
       "</style>\n",
       "<table border=\"1\" class=\"dataframe\">\n",
       "  <thead>\n",
       "    <tr style=\"text-align: right;\">\n",
       "      <th></th>\n",
       "      <th>anime_id</th>\n",
       "      <th>episodes</th>\n",
       "      <th>rating</th>\n",
       "      <th>members</th>\n",
       "      <th>Action</th>\n",
       "      <th>Adventure</th>\n",
       "      <th>Cars</th>\n",
       "      <th>Comedy</th>\n",
       "      <th>Dementia</th>\n",
       "      <th>Demons</th>\n",
       "      <th>...</th>\n",
       "      <th>Shounen Ai</th>\n",
       "      <th>Slice of Life</th>\n",
       "      <th>Space</th>\n",
       "      <th>Sports</th>\n",
       "      <th>Super Power</th>\n",
       "      <th>Supernatural</th>\n",
       "      <th>Thriller</th>\n",
       "      <th>Vampire</th>\n",
       "      <th>Yaoi</th>\n",
       "      <th>Yuri</th>\n",
       "    </tr>\n",
       "  </thead>\n",
       "  <tbody>\n",
       "    <tr>\n",
       "      <th>count</th>\n",
       "      <td>12294.000000</td>\n",
       "      <td>11954.000000</td>\n",
       "      <td>12294.000000</td>\n",
       "      <td>1.229400e+04</td>\n",
       "      <td>12294.000000</td>\n",
       "      <td>12294.000000</td>\n",
       "      <td>12294.000000</td>\n",
       "      <td>12294.000000</td>\n",
       "      <td>12294.000000</td>\n",
       "      <td>12294.000000</td>\n",
       "      <td>...</td>\n",
       "      <td>12294.000000</td>\n",
       "      <td>12294.000000</td>\n",
       "      <td>12294.000000</td>\n",
       "      <td>12294.000000</td>\n",
       "      <td>12294.000000</td>\n",
       "      <td>12294.000000</td>\n",
       "      <td>12294.000000</td>\n",
       "      <td>12294.000000</td>\n",
       "      <td>12294.000000</td>\n",
       "      <td>12294.000000</td>\n",
       "    </tr>\n",
       "    <tr>\n",
       "      <th>mean</th>\n",
       "      <td>14058.221653</td>\n",
       "      <td>12.382550</td>\n",
       "      <td>6.475700</td>\n",
       "      <td>1.807134e+04</td>\n",
       "      <td>0.231414</td>\n",
       "      <td>0.190987</td>\n",
       "      <td>0.005857</td>\n",
       "      <td>0.377827</td>\n",
       "      <td>0.019522</td>\n",
       "      <td>0.023914</td>\n",
       "      <td>...</td>\n",
       "      <td>0.005287</td>\n",
       "      <td>0.099235</td>\n",
       "      <td>0.030991</td>\n",
       "      <td>0.044168</td>\n",
       "      <td>0.037823</td>\n",
       "      <td>0.084350</td>\n",
       "      <td>0.007077</td>\n",
       "      <td>0.008297</td>\n",
       "      <td>0.003172</td>\n",
       "      <td>0.003416</td>\n",
       "    </tr>\n",
       "    <tr>\n",
       "      <th>std</th>\n",
       "      <td>11455.294701</td>\n",
       "      <td>46.865352</td>\n",
       "      <td>1.017179</td>\n",
       "      <td>5.482068e+04</td>\n",
       "      <td>0.421753</td>\n",
       "      <td>0.393095</td>\n",
       "      <td>0.076307</td>\n",
       "      <td>0.484864</td>\n",
       "      <td>0.138355</td>\n",
       "      <td>0.152788</td>\n",
       "      <td>...</td>\n",
       "      <td>0.072523</td>\n",
       "      <td>0.298990</td>\n",
       "      <td>0.173300</td>\n",
       "      <td>0.205476</td>\n",
       "      <td>0.190777</td>\n",
       "      <td>0.277923</td>\n",
       "      <td>0.083828</td>\n",
       "      <td>0.090711</td>\n",
       "      <td>0.056236</td>\n",
       "      <td>0.058352</td>\n",
       "    </tr>\n",
       "    <tr>\n",
       "      <th>min</th>\n",
       "      <td>1.000000</td>\n",
       "      <td>1.000000</td>\n",
       "      <td>1.670000</td>\n",
       "      <td>5.000000e+00</td>\n",
       "      <td>0.000000</td>\n",
       "      <td>0.000000</td>\n",
       "      <td>0.000000</td>\n",
       "      <td>0.000000</td>\n",
       "      <td>0.000000</td>\n",
       "      <td>0.000000</td>\n",
       "      <td>...</td>\n",
       "      <td>0.000000</td>\n",
       "      <td>0.000000</td>\n",
       "      <td>0.000000</td>\n",
       "      <td>0.000000</td>\n",
       "      <td>0.000000</td>\n",
       "      <td>0.000000</td>\n",
       "      <td>0.000000</td>\n",
       "      <td>0.000000</td>\n",
       "      <td>0.000000</td>\n",
       "      <td>0.000000</td>\n",
       "    </tr>\n",
       "    <tr>\n",
       "      <th>25%</th>\n",
       "      <td>3484.250000</td>\n",
       "      <td>1.000000</td>\n",
       "      <td>5.900000</td>\n",
       "      <td>2.250000e+02</td>\n",
       "      <td>0.000000</td>\n",
       "      <td>0.000000</td>\n",
       "      <td>0.000000</td>\n",
       "      <td>0.000000</td>\n",
       "      <td>0.000000</td>\n",
       "      <td>0.000000</td>\n",
       "      <td>...</td>\n",
       "      <td>0.000000</td>\n",
       "      <td>0.000000</td>\n",
       "      <td>0.000000</td>\n",
       "      <td>0.000000</td>\n",
       "      <td>0.000000</td>\n",
       "      <td>0.000000</td>\n",
       "      <td>0.000000</td>\n",
       "      <td>0.000000</td>\n",
       "      <td>0.000000</td>\n",
       "      <td>0.000000</td>\n",
       "    </tr>\n",
       "    <tr>\n",
       "      <th>50%</th>\n",
       "      <td>10260.500000</td>\n",
       "      <td>2.000000</td>\n",
       "      <td>6.570000</td>\n",
       "      <td>1.550000e+03</td>\n",
       "      <td>0.000000</td>\n",
       "      <td>0.000000</td>\n",
       "      <td>0.000000</td>\n",
       "      <td>0.000000</td>\n",
       "      <td>0.000000</td>\n",
       "      <td>0.000000</td>\n",
       "      <td>...</td>\n",
       "      <td>0.000000</td>\n",
       "      <td>0.000000</td>\n",
       "      <td>0.000000</td>\n",
       "      <td>0.000000</td>\n",
       "      <td>0.000000</td>\n",
       "      <td>0.000000</td>\n",
       "      <td>0.000000</td>\n",
       "      <td>0.000000</td>\n",
       "      <td>0.000000</td>\n",
       "      <td>0.000000</td>\n",
       "    </tr>\n",
       "    <tr>\n",
       "      <th>75%</th>\n",
       "      <td>24794.500000</td>\n",
       "      <td>12.000000</td>\n",
       "      <td>7.170000</td>\n",
       "      <td>9.437000e+03</td>\n",
       "      <td>0.000000</td>\n",
       "      <td>0.000000</td>\n",
       "      <td>0.000000</td>\n",
       "      <td>1.000000</td>\n",
       "      <td>0.000000</td>\n",
       "      <td>0.000000</td>\n",
       "      <td>...</td>\n",
       "      <td>0.000000</td>\n",
       "      <td>0.000000</td>\n",
       "      <td>0.000000</td>\n",
       "      <td>0.000000</td>\n",
       "      <td>0.000000</td>\n",
       "      <td>0.000000</td>\n",
       "      <td>0.000000</td>\n",
       "      <td>0.000000</td>\n",
       "      <td>0.000000</td>\n",
       "      <td>0.000000</td>\n",
       "    </tr>\n",
       "    <tr>\n",
       "      <th>max</th>\n",
       "      <td>34527.000000</td>\n",
       "      <td>1818.000000</td>\n",
       "      <td>10.000000</td>\n",
       "      <td>1.013917e+06</td>\n",
       "      <td>1.000000</td>\n",
       "      <td>1.000000</td>\n",
       "      <td>1.000000</td>\n",
       "      <td>1.000000</td>\n",
       "      <td>1.000000</td>\n",
       "      <td>1.000000</td>\n",
       "      <td>...</td>\n",
       "      <td>1.000000</td>\n",
       "      <td>1.000000</td>\n",
       "      <td>1.000000</td>\n",
       "      <td>1.000000</td>\n",
       "      <td>1.000000</td>\n",
       "      <td>1.000000</td>\n",
       "      <td>1.000000</td>\n",
       "      <td>1.000000</td>\n",
       "      <td>1.000000</td>\n",
       "      <td>1.000000</td>\n",
       "    </tr>\n",
       "  </tbody>\n",
       "</table>\n",
       "<p>8 rows × 47 columns</p>\n",
       "</div>"
      ],
      "text/plain": [
       "           anime_id      episodes        rating       members        Action  \\\n",
       "count  12294.000000  11954.000000  12294.000000  1.229400e+04  12294.000000   \n",
       "mean   14058.221653     12.382550      6.475700  1.807134e+04      0.231414   \n",
       "std    11455.294701     46.865352      1.017179  5.482068e+04      0.421753   \n",
       "min        1.000000      1.000000      1.670000  5.000000e+00      0.000000   \n",
       "25%     3484.250000      1.000000      5.900000  2.250000e+02      0.000000   \n",
       "50%    10260.500000      2.000000      6.570000  1.550000e+03      0.000000   \n",
       "75%    24794.500000     12.000000      7.170000  9.437000e+03      0.000000   \n",
       "max    34527.000000   1818.000000     10.000000  1.013917e+06      1.000000   \n",
       "\n",
       "          Adventure          Cars        Comedy      Dementia        Demons  \\\n",
       "count  12294.000000  12294.000000  12294.000000  12294.000000  12294.000000   \n",
       "mean       0.190987      0.005857      0.377827      0.019522      0.023914   \n",
       "std        0.393095      0.076307      0.484864      0.138355      0.152788   \n",
       "min        0.000000      0.000000      0.000000      0.000000      0.000000   \n",
       "25%        0.000000      0.000000      0.000000      0.000000      0.000000   \n",
       "50%        0.000000      0.000000      0.000000      0.000000      0.000000   \n",
       "75%        0.000000      0.000000      1.000000      0.000000      0.000000   \n",
       "max        1.000000      1.000000      1.000000      1.000000      1.000000   \n",
       "\n",
       "       ...    Shounen Ai  Slice of Life         Space        Sports  \\\n",
       "count  ...  12294.000000   12294.000000  12294.000000  12294.000000   \n",
       "mean   ...      0.005287       0.099235      0.030991      0.044168   \n",
       "std    ...      0.072523       0.298990      0.173300      0.205476   \n",
       "min    ...      0.000000       0.000000      0.000000      0.000000   \n",
       "25%    ...      0.000000       0.000000      0.000000      0.000000   \n",
       "50%    ...      0.000000       0.000000      0.000000      0.000000   \n",
       "75%    ...      0.000000       0.000000      0.000000      0.000000   \n",
       "max    ...      1.000000       1.000000      1.000000      1.000000   \n",
       "\n",
       "        Super Power  Supernatural      Thriller       Vampire          Yaoi  \\\n",
       "count  12294.000000  12294.000000  12294.000000  12294.000000  12294.000000   \n",
       "mean       0.037823      0.084350      0.007077      0.008297      0.003172   \n",
       "std        0.190777      0.277923      0.083828      0.090711      0.056236   \n",
       "min        0.000000      0.000000      0.000000      0.000000      0.000000   \n",
       "25%        0.000000      0.000000      0.000000      0.000000      0.000000   \n",
       "50%        0.000000      0.000000      0.000000      0.000000      0.000000   \n",
       "75%        0.000000      0.000000      0.000000      0.000000      0.000000   \n",
       "max        1.000000      1.000000      1.000000      1.000000      1.000000   \n",
       "\n",
       "               Yuri  \n",
       "count  12294.000000  \n",
       "mean       0.003416  \n",
       "std        0.058352  \n",
       "min        0.000000  \n",
       "25%        0.000000  \n",
       "50%        0.000000  \n",
       "75%        0.000000  \n",
       "max        1.000000  \n",
       "\n",
       "[8 rows x 47 columns]"
      ]
     },
     "execution_count": 27,
     "metadata": {},
     "output_type": "execute_result"
    }
   ],
   "source": [
    "df.describe()"
   ]
  },
  {
   "cell_type": "markdown",
   "id": "b26f35bb-35b0-4219-8a53-e6d778c0b978",
   "metadata": {},
   "source": [
    "- Episode:      \n",
    "Mean number of episodes are ~12.38.                \n",
    "High standard deviations and the max value indicates the presence of outliers.\n",
    "\n",
    "- Rating:         \n",
    "Ratings are ranging from 1.67 and 10.\n",
    "\n",
    "- Members:                          \n",
    "Mean number of members per anime are ~18,000.                   \n",
    "Max number of members are ~1 million.\n",
    "\n",
    "- Genre Features:                           \n",
    "Action is present in 23% of anime.                     \n",
    "Adventure in 19% of the anime.                     \n",
    "Most frequent is Comdey which is presnt in 37% of the anime."
   ]
  },
  {
   "cell_type": "markdown",
   "id": "c899a29a-1ae3-4483-a084-6f0a40f6d114",
   "metadata": {},
   "source": [
    "Feature Extraction:\n"
   ]
  },
  {
   "cell_type": "markdown",
   "id": "6bd7ea64-0e56-4902-a372-3e57867f8164",
   "metadata": {},
   "source": [
    "Decide on the features that will be used for computing similarity (e.g., genres, user ratings):\n"
   ]
  },
  {
   "cell_type": "markdown",
   "id": "a55fd9a0-dcd7-473e-95d0-c67d09a1fdfb",
   "metadata": {},
   "source": [
    "Using the genre columns for similarity as they directly describe the content or theme of the Anime.                     \n",
    "Cosine similarity works best with Binary Vectors."
   ]
  },
  {
   "cell_type": "markdown",
   "id": "20916629-f7d8-4f20-9069-099533dee1d1",
   "metadata": {},
   "source": [
    "Recommendation System(Content-Based Filtering):\n"
   ]
  },
  {
   "cell_type": "markdown",
   "id": "b366e8d6-33e3-4b29-9109-8b6f78bec666",
   "metadata": {},
   "source": [
    "Design a function to recommend anime based on cosine similarity.\n"
   ]
  },
  {
   "cell_type": "markdown",
   "id": "4ad4fdb2-0d72-48a9-af95-e94e0c7fd9ad",
   "metadata": {},
   "source": [
    "Given a target anime, recommend a list of similar anime based on cosine similarity scores.\n"
   ]
  },
  {
   "cell_type": "markdown",
   "id": "66c36100-1790-4e1b-bc0a-9773a59f1479",
   "metadata": {},
   "source": [
    "Experiment with different threshold values for similarity scores to adjust the recommendation list size.\n"
   ]
  },
  {
   "cell_type": "code",
   "execution_count": 36,
   "id": "2b8fca04-a7f9-49b3-be02-a415f67c4c82",
   "metadata": {},
   "outputs": [],
   "source": [
    "def recommend_anime_threshold(anime_name, df, threshold=0.5):\n",
    "    \n",
    "    #anime_name: The name of the reference anime\n",
    "    #df: DataFrame containing 'name' and genre binary columns\n",
    "    #threshold: Similarity score threshold (0 to 1)\n",
    "\n",
    "    from sklearn.metrics.pairwise import cosine_similarity\n",
    "\n",
    "    # Check if anime exists\n",
    "    if anime_name not in df['name'].values:\n",
    "        return f\"'{anime_name}' not found in dataset.\"\n",
    "\n",
    "    # Genre matrix\n",
    "    genre_df = df.loc[:, 'Action':'Yuri']  # adjust genre column range\n",
    "\n",
    "    # Cosine similarity matrix\n",
    "    cosine_sim = cosine_similarity(genre_df)\n",
    "\n",
    "    # Index of target anime\n",
    "    idx = df[df['name'] == anime_name].index[0]\n",
    "\n",
    "    # Similarity scores with all other anime\n",
    "    sim_scores = list(enumerate(cosine_sim[idx]))\n",
    "\n",
    "    # Filter using threshold (excluding the anime itself)\n",
    "    filtered = [(i, score) for i, score in sim_scores if score >= threshold and i != idx]\n",
    "\n",
    "    # Sort by similarity\n",
    "    filtered_sorted = sorted(filtered, key=lambda x: x[1], reverse=True)\n",
    "\n",
    "    # Get anime names\n",
    "    recommendations = [(df.iloc[i]['name'], score) for i, score in filtered_sorted]\n",
    "\n",
    "    return pd.DataFrame(recommendations, columns=['Recommended Anime', 'Similarity Score'])\n"
   ]
  },
  {
   "cell_type": "code",
   "execution_count": 38,
   "id": "35c21ccc-83dc-4e82-a27b-7c8cf609bc76",
   "metadata": {},
   "outputs": [
    {
     "data": {
      "text/html": [
       "<div>\n",
       "<style scoped>\n",
       "    .dataframe tbody tr th:only-of-type {\n",
       "        vertical-align: middle;\n",
       "    }\n",
       "\n",
       "    .dataframe tbody tr th {\n",
       "        vertical-align: top;\n",
       "    }\n",
       "\n",
       "    .dataframe thead th {\n",
       "        text-align: right;\n",
       "    }\n",
       "</style>\n",
       "<table border=\"1\" class=\"dataframe\">\n",
       "  <thead>\n",
       "    <tr style=\"text-align: right;\">\n",
       "      <th></th>\n",
       "      <th>Recommended Anime</th>\n",
       "      <th>Similarity Score</th>\n",
       "    </tr>\n",
       "  </thead>\n",
       "  <tbody>\n",
       "    <tr>\n",
       "      <th>0</th>\n",
       "      <td>Wind: A Breath of Heart OVA</td>\n",
       "      <td>1.000000</td>\n",
       "    </tr>\n",
       "    <tr>\n",
       "      <th>1</th>\n",
       "      <td>Wind: A Breath of Heart (TV)</td>\n",
       "      <td>1.000000</td>\n",
       "    </tr>\n",
       "    <tr>\n",
       "      <th>2</th>\n",
       "      <td>Aura: Maryuuin Kouga Saigo no Tatakai</td>\n",
       "      <td>0.894427</td>\n",
       "    </tr>\n",
       "    <tr>\n",
       "      <th>3</th>\n",
       "      <td>Kokoro ga Sakebitagatterunda.</td>\n",
       "      <td>0.866025</td>\n",
       "    </tr>\n",
       "    <tr>\n",
       "      <th>4</th>\n",
       "      <td>Clannad: After Story - Mou Hitotsu no Sekai, K...</td>\n",
       "      <td>0.866025</td>\n",
       "    </tr>\n",
       "    <tr>\n",
       "      <th>...</th>\n",
       "      <td>...</td>\n",
       "      <td>...</td>\n",
       "    </tr>\n",
       "    <tr>\n",
       "      <th>824</th>\n",
       "      <td>Kakyuusei</td>\n",
       "      <td>0.500000</td>\n",
       "    </tr>\n",
       "    <tr>\n",
       "      <th>825</th>\n",
       "      <td>Ashita no Yukinojou</td>\n",
       "      <td>0.500000</td>\n",
       "    </tr>\n",
       "    <tr>\n",
       "      <th>826</th>\n",
       "      <td>Doukyuusei (OVA): Natsu no Owari ni</td>\n",
       "      <td>0.500000</td>\n",
       "    </tr>\n",
       "    <tr>\n",
       "      <th>827</th>\n",
       "      <td>Stratosphera no Yousei</td>\n",
       "      <td>0.500000</td>\n",
       "    </tr>\n",
       "    <tr>\n",
       "      <th>828</th>\n",
       "      <td>Gloria: Kindan no Ketsuzoku</td>\n",
       "      <td>0.500000</td>\n",
       "    </tr>\n",
       "  </tbody>\n",
       "</table>\n",
       "<p>829 rows × 2 columns</p>\n",
       "</div>"
      ],
      "text/plain": [
       "                                     Recommended Anime  Similarity Score\n",
       "0                          Wind: A Breath of Heart OVA          1.000000\n",
       "1                         Wind: A Breath of Heart (TV)          1.000000\n",
       "2                Aura: Maryuuin Kouga Saigo no Tatakai          0.894427\n",
       "3                        Kokoro ga Sakebitagatterunda.          0.866025\n",
       "4    Clannad: After Story - Mou Hitotsu no Sekai, K...          0.866025\n",
       "..                                                 ...               ...\n",
       "824                                          Kakyuusei          0.500000\n",
       "825                                Ashita no Yukinojou          0.500000\n",
       "826                Doukyuusei (OVA): Natsu no Owari ni          0.500000\n",
       "827                             Stratosphera no Yousei          0.500000\n",
       "828                        Gloria: Kindan no Ketsuzoku          0.500000\n",
       "\n",
       "[829 rows x 2 columns]"
      ]
     },
     "execution_count": 38,
     "metadata": {},
     "output_type": "execute_result"
    }
   ],
   "source": [
    "recommend_anime_threshold(\"Kimi no Na wa.\", df)"
   ]
  },
  {
   "cell_type": "code",
   "execution_count": 40,
   "id": "889fc4a6-c641-4531-a996-7caaa8b333d4",
   "metadata": {},
   "outputs": [
    {
     "data": {
      "text/html": [
       "<div>\n",
       "<style scoped>\n",
       "    .dataframe tbody tr th:only-of-type {\n",
       "        vertical-align: middle;\n",
       "    }\n",
       "\n",
       "    .dataframe tbody tr th {\n",
       "        vertical-align: top;\n",
       "    }\n",
       "\n",
       "    .dataframe thead th {\n",
       "        text-align: right;\n",
       "    }\n",
       "</style>\n",
       "<table border=\"1\" class=\"dataframe\">\n",
       "  <thead>\n",
       "    <tr style=\"text-align: right;\">\n",
       "      <th></th>\n",
       "      <th>Recommended Anime</th>\n",
       "      <th>Similarity Score</th>\n",
       "    </tr>\n",
       "  </thead>\n",
       "  <tbody>\n",
       "    <tr>\n",
       "      <th>0</th>\n",
       "      <td>Boruto: Naruto the Movie</td>\n",
       "      <td>1.000000</td>\n",
       "    </tr>\n",
       "    <tr>\n",
       "      <th>1</th>\n",
       "      <td>Naruto: Shippuuden</td>\n",
       "      <td>1.000000</td>\n",
       "    </tr>\n",
       "    <tr>\n",
       "      <th>2</th>\n",
       "      <td>Boruto: Naruto the Movie - Naruto ga Hokage ni...</td>\n",
       "      <td>1.000000</td>\n",
       "    </tr>\n",
       "    <tr>\n",
       "      <th>3</th>\n",
       "      <td>Naruto x UT</td>\n",
       "      <td>1.000000</td>\n",
       "    </tr>\n",
       "    <tr>\n",
       "      <th>4</th>\n",
       "      <td>Naruto: Shippuuden Movie 4 - The Lost Tower</td>\n",
       "      <td>1.000000</td>\n",
       "    </tr>\n",
       "    <tr>\n",
       "      <th>...</th>\n",
       "      <td>...</td>\n",
       "      <td>...</td>\n",
       "    </tr>\n",
       "    <tr>\n",
       "      <th>113</th>\n",
       "      <td>Tokyo ESP</td>\n",
       "      <td>0.730297</td>\n",
       "    </tr>\n",
       "    <tr>\n",
       "      <th>114</th>\n",
       "      <td>Gatchaman</td>\n",
       "      <td>0.730297</td>\n",
       "    </tr>\n",
       "    <tr>\n",
       "      <th>115</th>\n",
       "      <td>Ninku (Movie)</td>\n",
       "      <td>0.730297</td>\n",
       "    </tr>\n",
       "    <tr>\n",
       "      <th>116</th>\n",
       "      <td>Baoh Raihousha</td>\n",
       "      <td>0.730297</td>\n",
       "    </tr>\n",
       "    <tr>\n",
       "      <th>117</th>\n",
       "      <td>Taboo Tattoo</td>\n",
       "      <td>0.730297</td>\n",
       "    </tr>\n",
       "  </tbody>\n",
       "</table>\n",
       "<p>118 rows × 2 columns</p>\n",
       "</div>"
      ],
      "text/plain": [
       "                                     Recommended Anime  Similarity Score\n",
       "0                             Boruto: Naruto the Movie          1.000000\n",
       "1                                   Naruto: Shippuuden          1.000000\n",
       "2    Boruto: Naruto the Movie - Naruto ga Hokage ni...          1.000000\n",
       "3                                          Naruto x UT          1.000000\n",
       "4          Naruto: Shippuuden Movie 4 - The Lost Tower          1.000000\n",
       "..                                                 ...               ...\n",
       "113                                          Tokyo ESP          0.730297\n",
       "114                                          Gatchaman          0.730297\n",
       "115                                      Ninku (Movie)          0.730297\n",
       "116                                     Baoh Raihousha          0.730297\n",
       "117                                       Taboo Tattoo          0.730297\n",
       "\n",
       "[118 rows x 2 columns]"
      ]
     },
     "execution_count": 40,
     "metadata": {},
     "output_type": "execute_result"
    }
   ],
   "source": [
    "recommend_anime_threshold(\"Naruto\", df, threshold=0.7)\n"
   ]
  },
  {
   "cell_type": "markdown",
   "id": "4de3536c-b38c-4d2e-a89b-5b2ec4be31c6",
   "metadata": {},
   "source": [
    "Evaluation:\n"
   ]
  },
  {
   "cell_type": "markdown",
   "id": "cc4ca192-04a2-449f-8527-8c83aa0bf64c",
   "metadata": {},
   "source": [
    "Since the recommendation system is based on content similarity using features like genre, rating, and member count, there was no training involved. Therefore, splitting the dataset into training and testing sets is not required.\n",
    "\n",
    "Moreover, since there is no user-item interaction or feedback data available, it is not possible to calculate standard evaluation metrics like precision, recall, or F1-score.\n",
    "\n",
    "However, the performance of the system can be improved in the following ways:\n",
    "\n",
    "- Incorporating user viewing or rating history to enable collaborative filtering\n",
    "\n",
    "- Adding more features such as release year, studio, or tags\n",
    "\n",
    "- Normalizing or weighting features like rating and members to balance their influence on similarity scores"
   ]
  },
  {
   "cell_type": "markdown",
   "id": "b9aad1f9-cd64-45ee-bb87-7d24493ae153",
   "metadata": {},
   "source": [
    "Interview Questions:"
   ]
  },
  {
   "cell_type": "markdown",
   "id": "fa64f935-16e2-4004-a676-e92981ef0651",
   "metadata": {},
   "source": [
    "Q1: Can you explain the difference between user-based and item-based collaborative filtering?"
   ]
  },
  {
   "cell_type": "markdown",
   "id": "6bbbb0de-c555-4dc4-8acc-cf8bf55a91dc",
   "metadata": {},
   "source": [
    "- User-Based Collaborative Filtering recommends items to a user based on the preferences of similar users.\n",
    "\n",
    "It identifies users who have similar tastes and recommends what they liked.\n",
    "\n",
    "Example: If User A and User B both like Anime X, and User A also likes Anime Y, then Anime Y is recommended to User B.\n",
    "\n",
    "- Item-Based Collaborative Filtering recommends items that are similar to those the user already liked.\n",
    "\n",
    "It finds items with similar rating patterns across users.\n",
    "\n",
    "Example: If many users who liked Anime X also liked Anime Y, and a user watched Anime X, then Anime Y is recommended."
   ]
  },
  {
   "cell_type": "markdown",
   "id": "918ca220-3091-4ef6-9c55-d781f98ac022",
   "metadata": {},
   "source": [
    " Q2: What is collaborative filtering, and how does it work?"
   ]
  },
  {
   "cell_type": "markdown",
   "id": "5de3fe5d-e4a1-408b-ac4e-f2365e5864ee",
   "metadata": {},
   "source": [
    "Collaborative filtering is a recommendation technique that suggests items to a user based on the preferences of similar users or similar items. It assumes that users with similar tastes will prefer similar things in the future.\n",
    "\n",
    "It works by using a user-item interaction matrix — like user ratings, watch history, or likes — and calculates similarity between users or items.\n",
    "\n",
    "This method needs actual user behavior data, not just item features."
   ]
  },
  {
   "cell_type": "code",
   "execution_count": null,
   "id": "f2a6809a-605c-40f6-b11c-228092ed4306",
   "metadata": {},
   "outputs": [],
   "source": []
  }
 ],
 "metadata": {
  "kernelspec": {
   "display_name": "Python [conda env:base] *",
   "language": "python",
   "name": "conda-base-py"
  },
  "language_info": {
   "codemirror_mode": {
    "name": "ipython",
    "version": 3
   },
   "file_extension": ".py",
   "mimetype": "text/x-python",
   "name": "python",
   "nbconvert_exporter": "python",
   "pygments_lexer": "ipython3",
   "version": "3.12.7"
  }
 },
 "nbformat": 4,
 "nbformat_minor": 5
}
